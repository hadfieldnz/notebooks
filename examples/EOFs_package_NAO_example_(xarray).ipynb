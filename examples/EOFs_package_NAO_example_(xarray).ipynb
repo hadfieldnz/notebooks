{
 "cells": [
  {
   "cell_type": "markdown",
   "metadata": {},
   "source": [
    "# EOFs package NAO example (xarray)"
   ]
  },
  {
   "cell_type": "markdown",
   "metadata": {},
   "source": [
    "Compute and plot the leading EOF of geopotential height on the 500 hPa\n",
    "pressure surface over the European/Atlantic sector during winter time.\n",
    "\n",
    "This example uses the metadata-retaining xarray interface.\n",
    "\n",
    "Additional requirements for this example:\n",
    "\n",
    "    * xarray (http://xarray.pydata.org)\n",
    "    * matplotlib (http://matplotlib.org/)\n",
    "    * cartopy (http://scitools.org.uk/cartopy/)\n",
    "\n",
    "This notebook is based on code in\n",
    "\n",
    "    https://ajdawson.github.io/eofs/latest/examples/nao_xarray.html\n",
    "\n",
    "Change history:\n",
    "\n",
    "MGH 2019-04-15\n",
    "    - Notebook adapted from https://git.niwa.local/hadfield/python-mgh/blob/master/examples/mgh_example_eofs_nao_xarray.py"
   ]
  },
  {
   "cell_type": "code",
   "execution_count": 2,
   "metadata": {},
   "outputs": [],
   "source": [
    "import cartopy.crs as ccrs\n",
    "import matplotlib.pyplot as plt\n",
    "import numpy as np\n",
    "import xarray as xr\n",
    "\n",
    "from eofs.xarray import Eof\n",
    "from eofs.examples import example_data_path"
   ]
  },
  {
   "cell_type": "markdown",
   "metadata": {},
   "source": [
    "Read geopotential height data using the xarray module.\n",
    "\n",
    "The file contains December-February averages of geopotential height at\n",
    "500 hPa for the European/Atlantic domain (80W-40E, 20-90N)."
   ]
  },
  {
   "cell_type": "code",
   "execution_count": 3,
   "metadata": {},
   "outputs": [],
   "source": [
    "filename = example_data_path('hgt_djf.nc')\n",
    "z_djf = xr.open_dataset(filename)['z']"
   ]
  },
  {
   "cell_type": "markdown",
   "metadata": {},
   "source": [
    "Compute anomalies by removing the time-mean."
   ]
  },
  {
   "cell_type": "code",
   "execution_count": 4,
   "metadata": {},
   "outputs": [],
   "source": [
    "z_djf = z_djf - z_djf.mean(dim='time')"
   ]
  },
  {
   "cell_type": "markdown",
   "metadata": {},
   "source": [
    "Create an EOF solver to do the EOF analysis.\n",
    "\n",
    "Square-root of cosine of latitude weights are applied before the\n",
    "computation of EOFs."
   ]
  },
  {
   "cell_type": "code",
   "execution_count": 5,
   "metadata": {},
   "outputs": [],
   "source": [
    "coslat = np.cos(np.deg2rad(z_djf.coords['latitude'].values)).clip(0., 1.)\n",
    "wgts = np.sqrt(coslat)[..., np.newaxis]\n",
    "solver = Eof(z_djf, weights=wgts)"
   ]
  },
  {
   "cell_type": "markdown",
   "metadata": {},
   "source": [
    "Retrieve the leading EOF\n",
    "\n",
    "The EOF is expressed as the covariance between the leading PC\n",
    "time series and the input SLP anomalies at each grid point."
   ]
  },
  {
   "cell_type": "code",
   "execution_count": 8,
   "metadata": {},
   "outputs": [],
   "source": [
    "eof1 = solver.eofsAsCovariance(neofs=1)"
   ]
  },
  {
   "cell_type": "markdown",
   "metadata": {},
   "source": [
    "Plot the leading EOF"
   ]
  },
  {
   "cell_type": "code",
   "execution_count": 7,
   "metadata": {},
   "outputs": [],
   "source": [
    "plt.figure()\n",
    "clevs = np.linspace(-75, 75, 11)\n",
    "proj = ccrs.Orthographic(central_longitude=-20, central_latitude=60)\n",
    "ax = plt.axes(projection=proj)\n",
    "ax.coastlines()\n",
    "ax.set_global()\n",
    "eof1[0, 0].plot.contourf(ax=ax, levels=clevs, cmap=plt.cm.RdBu_r,\n",
    "                         transform=ccrs.PlateCarree(), add_colorbar=False)\n",
    "ax.set_title('EOF1 expressed as covariance', fontsize=16)\n",
    "\n",
    "plt.show()"
   ]
  },
  {
   "cell_type": "code",
   "execution_count": null,
   "metadata": {},
   "outputs": [],
   "source": []
  }
 ],
 "metadata": {
  "git": {
   "suppress_outputs": true
  },
  "kernelspec": {
   "display_name": "Python 3",
   "language": "python",
   "name": "python3"
  },
  "language_info": {
   "codemirror_mode": {
    "name": "ipython",
    "version": 3
   },
   "file_extension": ".py",
   "mimetype": "text/x-python",
   "name": "python",
   "nbconvert_exporter": "python",
   "pygments_lexer": "ipython3",
   "version": "3.7.3"
  }
 },
 "nbformat": 4,
 "nbformat_minor": 4
}