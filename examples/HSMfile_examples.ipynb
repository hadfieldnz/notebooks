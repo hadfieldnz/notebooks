{
 "cells": [
  {
   "cell_type": "markdown",
   "metadata": {},
   "source": [
    "# HSMfile examples"
   ]
  },
  {
   "cell_type": "markdown",
   "metadata": {},
   "source": [
    "The [hsmfile module](https://github.com/hadfieldnz/hsmfile) is modelled on my IDL mgh_san routines and provides user-customisable  access to remote (slow-access) and local (fast-access) files.\n",
    "\n",
    "This notebook exercises various aspects of the hsmfile module.\n",
    "\n",
    "Change history:\n",
    "\n",
    "MGH 2019-08-15\n",
    "    - afile is now called hsmfile.\n",
    "\n",
    "MGH 2019-08-07\n",
    "    - Modified for afile.\n",
    "\n",
    "MGH 2019-05-06\n",
    "    - Written for afile's predecessor, mgh_san."
   ]
  },
  {
   "cell_type": "code",
   "execution_count": 1,
   "metadata": {},
   "outputs": [],
   "source": [
    "import os\n",
    "import hsmfile"
   ]
  },
  {
   "cell_type": "markdown",
   "metadata": {},
   "source": [
    "The following cell should be executed whenever the hsmfile module code has been changed."
   ]
  },
  {
   "cell_type": "code",
   "execution_count": 2,
   "metadata": {},
   "outputs": [],
   "source": [
    "from importlib import reload\n",
    "reload(hsmfile);"
   ]
  },
  {
   "cell_type": "markdown",
   "metadata": {},
   "source": [
    "Print the volumes supported by the hsmfile module on this platform"
   ]
  },
  {
   "cell_type": "code",
   "execution_count": 3,
   "metadata": {},
   "outputs": [],
   "source": [
    "print(hsmfile.volume.keys())"
   ]
  },
  {
   "cell_type": "markdown",
   "metadata": {},
   "source": [
    "Specify the files for which we will search (Cook Strait Narrows 1 km run). Normally"
   ]
  },
  {
   "cell_type": "code",
   "execution_count": 4,
   "metadata": {},
   "outputs": [],
   "source": [
    "vol = '/nesi/nobackup/niwa00020/hadfield'\n",
    "\n",
    "sub = 'work/cook/roms/sim34/run'\n",
    "\n",
    "pattern = 'bran-2009-2012-nzlam-1.20-detide/roms_avg_????.nc'"
   ]
  },
  {
   "cell_type": "markdown",
   "metadata": {},
   "source": [
    "The hsmfile.path function returns a pathlib Path object. Here we construct the path names for the base directory on the remote, or master, volume (mirror = False) and the local, or mirror, volume (mirror = True)"
   ]
  },
  {
   "cell_type": "code",
   "execution_count": 5,
   "metadata": {},
   "outputs": [],
   "source": [
    "hsmfile.path(sub=sub,vol=vol,mirror=False)"
   ]
  },
  {
   "cell_type": "code",
   "execution_count": 6,
   "metadata": {},
   "outputs": [],
   "source": [
    "if 'mirror' in hsmfile.volume[vol]:\n",
    "    print(repr(hsmfile.path(sub=sub,vol=vol,mirror=True)))\n",
    "else:\n",
    "    print('Volume has no mirror')"
   ]
  },
  {
   "cell_type": "markdown",
   "metadata": {},
   "source": [
    "The hsmfile.search function uses the Path's glob function to create a generator object and from that generates and returns a sorted list of Path objects relative to the base. "
   ]
  },
  {
   "cell_type": "code",
   "execution_count": 7,
   "metadata": {},
   "outputs": [],
   "source": [
    "match = hsmfile.search(pattern,sub=sub,vol=vol); match"
   ]
  },
  {
   "cell_type": "markdown",
   "metadata": {},
   "source": [
    "The hsmfile.file function constructs and returns a list of path objects representing actual files. It checks for existence and copies from master to mirror as necessary."
   ]
  },
  {
   "cell_type": "code",
   "execution_count": 8,
   "metadata": {},
   "outputs": [],
   "source": [
    "file = [hsmfile.file(m,sub=sub,vol=vol) for m in match]; file"
   ]
  },
  {
   "cell_type": "code",
   "execution_count": null,
   "metadata": {},
   "outputs": [],
   "source": []
  }
 ],
 "metadata": {
  "git": {
   "suppress_outputs": true
  },
  "kernelspec": {
   "display_name": "Python 3",
   "language": "python",
   "name": "python3"
  },
  "language_info": {
   "codemirror_mode": {
    "name": "ipython",
    "version": 3
   },
   "file_extension": ".py",
   "mimetype": "text/x-python",
   "name": "python",
   "nbconvert_exporter": "python",
   "pygments_lexer": "ipython3",
   "version": "3.7.3"
  }
 },
 "nbformat": 4,
 "nbformat_minor": 4
}