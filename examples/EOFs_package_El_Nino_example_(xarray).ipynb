{
 "cells": [
  {
   "cell_type": "markdown",
   "metadata": {},
   "source": [
    "# EOFs package El Nino example (xarray)"
   ]
  },
  {
   "cell_type": "markdown",
   "metadata": {},
   "source": [
    "Compute and plot the leading EOF of sea surface temperature in the\n",
    "central and northern Pacific during winter time.\n",
    "\n",
    "The spatial pattern of this EOF is the canonical El Nino pattern, and\n",
    "the associated time series shows large peaks and troughs for well-known\n",
    "El Nino and La Nina events.\n",
    "\n",
    "Additional requirements for this example:\n",
    "\n",
    "    * xarray (http://xarray.pydata.org)\n",
    "    * matplotlib (http://matplotlib.org/)\n",
    "    * cartopy (http://scitools.org.uk/cartopy/)\n",
    "\n",
    "This notebook is based on code in\n",
    "\n",
    "    https://ajdawson.github.io/eofs/latest/examples/elnino_xarray.html\n",
    "\n",
    "Change history:\n",
    "\n",
    "MGH 2019-04-15\n",
    "    - Written based on the Web page.\n",
    "\n",
    "MGH 2019-07-01\n",
    "    - The filled contour plot now uses the cmocean balance colour map."
   ]
  },
  {
   "cell_type": "code",
   "execution_count": 1,
   "metadata": {},
   "outputs": [],
   "source": [
    "import cartopy.crs as ccrs\n",
    "import cartopy.feature as cfeature\n",
    "import matplotlib.pyplot as plt\n",
    "import cmocean\n",
    "import numpy as np\n",
    "import xarray as xr\n",
    "\n",
    "from eofs.xarray import Eof\n",
    "from eofs.examples import example_data_path"
   ]
  },
  {
   "cell_type": "markdown",
   "metadata": {},
   "source": [
    "Read SST anomalies using the xarray module. The file contains November-March\n",
    "averages of SST anomaly in the central and northern Pacific."
   ]
  },
  {
   "cell_type": "code",
   "execution_count": 2,
   "metadata": {},
   "outputs": [],
   "source": [
    "filename = example_data_path('sst_ndjfm_anom.nc')\n",
    "sst = xr.open_dataset(filename)['sst']"
   ]
  },
  {
   "cell_type": "markdown",
   "metadata": {},
   "source": [
    "Create an EOF solver to do the EOF analysis. Square-root of cosine of\n",
    "latitude weights are applied before the computation of EOFs."
   ]
  },
  {
   "cell_type": "code",
   "execution_count": 3,
   "metadata": {},
   "outputs": [],
   "source": [
    "coslat = np.cos(np.deg2rad(sst.coords['latitude'].values))\n",
    "wgts = np.sqrt(coslat)[..., np.newaxis]\n",
    "solver = Eof(sst, weights=wgts)"
   ]
  },
  {
   "cell_type": "markdown",
   "metadata": {},
   "source": [
    "Retrieve the leading EOF, expressed as the correlation between the leading\n",
    "PC time series and the input SST anomalies at each grid point, and the\n",
    "leading PC time series itself."
   ]
  },
  {
   "cell_type": "code",
   "execution_count": 4,
   "metadata": {},
   "outputs": [],
   "source": [
    "eof1 = solver.eofsAsCorrelation(neofs=1)\n",
    "pc1 = solver.pcs(npcs=1, pcscaling=1)"
   ]
  },
  {
   "cell_type": "markdown",
   "metadata": {},
   "source": [
    "Plot the leading EOF expressed as correlation in the Pacific domain."
   ]
  },
  {
   "cell_type": "code",
   "execution_count": 5,
   "metadata": {},
   "outputs": [],
   "source": [
    "clevs = np.linspace(-1, 1, 11)\n",
    "ax = plt.axes(projection=ccrs.PlateCarree(central_longitude=190))\n",
    "fill = eof1[0].plot.contourf(ax=ax, levels=clevs, cmap=cmocean.cm.balance,\n",
    "                             add_colorbar=False, transform=ccrs.PlateCarree())\n",
    "ax.add_feature(cfeature.LAND, facecolor='w', edgecolor='k')\n",
    "cb = plt.colorbar(fill, orientation='horizontal')\n",
    "cb.set_label('correlation coefficient', fontsize=12)\n",
    "ax.set_title('EOF1 expressed as correlation', fontsize=16)"
   ]
  },
  {
   "cell_type": "markdown",
   "metadata": {},
   "source": [
    "Plot the leading PC time series"
   ]
  },
  {
   "cell_type": "code",
   "execution_count": 6,
   "metadata": {},
   "outputs": [],
   "source": [
    "plt.figure()\n",
    "pc1[:, 0].plot(color='b', linewidth=2)\n",
    "ax = plt.gca()\n",
    "ax.axhline(0, color='k')\n",
    "ax.set_ylim(-3, 3)\n",
    "ax.set_xlabel('Year')\n",
    "ax.set_ylabel('Normalized Units')\n",
    "ax.set_title('PC1 Time Series', fontsize=16)\n",
    "\n",
    "plt.show()"
   ]
  },
  {
   "cell_type": "code",
   "execution_count": null,
   "metadata": {},
   "outputs": [],
   "source": []
  }
 ],
 "metadata": {
  "git": {
   "suppress_outputs": true
  },
  "kernelspec": {
   "display_name": "Python 3",
   "language": "python",
   "name": "python3"
  },
  "language_info": {
   "codemirror_mode": {
    "name": "ipython",
    "version": 3
   },
   "file_extension": ".py",
   "mimetype": "text/x-python",
   "name": "python",
   "nbconvert_exporter": "python",
   "pygments_lexer": "ipython3",
   "version": "3.7.6"
  }
 },
 "nbformat": 4,
 "nbformat_minor": 4
}